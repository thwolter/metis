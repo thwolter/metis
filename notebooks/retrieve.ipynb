{
 "cells": [
  {
   "metadata": {
    "ExecuteTime": {
     "end_time": "2025-10-05T13:46:53.836518Z",
     "start_time": "2025-10-05T13:46:53.739551Z"
    }
   },
   "cell_type": "code",
   "source": [
    "import os\n",
    "from src.core.config import get_settings\n",
    "os.chdir('/Users/thomas/PycharmProjects/FDE/classifier')\n",
    "get_settings.cache_clear()\n",
    "settings = get_settings()"
   ],
   "id": "b938615846a96840",
   "outputs": [],
   "execution_count": 1
  },
  {
   "metadata": {
    "collapsed": true,
    "ExecuteTime": {
     "end_time": "2025-10-05T13:46:56.703504Z",
     "start_time": "2025-10-05T13:46:55.087636Z"
    }
   },
   "cell_type": "code",
   "source": "from src.utils.tools import retrieve",
   "id": "initial_id",
   "outputs": [],
   "execution_count": 2
  },
  {
   "metadata": {
    "ExecuteTime": {
     "end_time": "2025-10-05T13:46:58.977902Z",
     "start_time": "2025-10-05T13:46:57.723649Z"
    }
   },
   "cell_type": "code",
   "source": "retrieve('sefe')\n",
   "id": "5b96dee31ac630e2",
   "outputs": [
    {
     "data": {
      "text/plain": [
       "[Document(id='f11b169e-876e-42d6-8a7a-99097b7c791c', metadata={'digest': 'vI7EHYpQg6bnz2PsLviZVeneXbMs9iqDQyOgUjIhClc=', 'parser': 'DoclingParser', 'source': 'sefe.pdf', 'dl_meta': {'origin': {'filename': 'tmp6m9xs_kr.pdf', 'mimetype': 'application/pdf', 'binary_hash': 4837886699614833239}, 'version': '1.0.0', 'headings': ['Risikomanagementsystem'], 'doc_items': [{'prov': [{'bbox': {'b': 231.03999999999996, 'l': 66.0, 'r': 547.784, 't': 295.344, 'coord_origin': 'BOTTOMLEFT'}, 'page_no': 10, 'charspan': [0, 459]}], 'label': 'text', 'parent': {'$ref': '#/body'}, 'children': [], 'self_ref': '#/texts/103', 'content_layer': 'body'}, {'prov': [{'bbox': {'b': 170.44000000000005, 'l': 66.0, 'r': 547.747, 't': 220.82400000000007, 'coord_origin': 'BOTTOMLEFT'}, 'page_no': 10, 'charspan': [0, 355]}], 'label': 'text', 'parent': {'$ref': '#/body'}, 'children': [], 'self_ref': '#/texts/104', 'content_layer': 'body'}, {'prov': [{'bbox': {'b': 82.12, 'l': 66.0, 'r': 547.72, 't': 160.10400000000004, 'coord_origin': 'BOTTOMLEFT'}, 'page_no': 10, 'charspan': [0, 552]}], 'label': 'text', 'parent': {'$ref': '#/body'}, 'children': [], 'self_ref': '#/texts/105', 'content_layer': 'body'}], 'schema_name': 'docling_core.transforms.chunker.DocMeta'}, 'chunk_id': 16}, page_content='Risikomanagementsystem\\nDer SEFE-Konzern betreibt ein konsistentes Risikomanagementsystem, welches in internen Richtlinien und Methodologien dokumentiert ist und einen strukturierten Ansatz zur Risikosteuerung unter Berücksichtigung der organisationsweiten Entflechtungsanforderungen gewährleistet. Die Geschäftsführung der SEFE Storage trifft die Entscheidung für die Umsetzung der vorgeschlagenen Risikomanagement-Strategie unter Berücksichtigung der regulatorischen Anforderungen.\\nDas Risikomanagementsystem ist zentral für die Erreichung der Unternehmensziele und ermöglicht die einheitliche Überwachung der operativen und finanziellen Aktivitäten. Es ist integraler Bestandteil der Geschäftsprozesse und passt sich dynamisch an Marktbedingungen, regulatorische Änderungen, strategische Prioritäten und übergeordnete Geschäftsziele an.\\nDer Konzern adressiert finanzielle und nicht-finanzielle Risiken durch Mechanismen zur Risikoidentifikation, -bewertung und -kontrolle und ergreift bei Bedarf Risikominderungsmaßnahmen. Im Jahr 2024 hat der Konzern damit begonnen, ESG-bezogene (Environmental, Social, Governance) Faktoren in ihr Risikomanagement-Framework zu integrieren, um ökologische und soziale Auswirkungen zu adressieren. SEFE befindet sich derzeit im Prozess, die Vorgaben der Corporate Sustainability Reporting Directive (CSRD) in ihr Risikomanagement-Framework zu integrieren.'),\n",
       " Document(id='dfac05e7-fe97-4662-b3a2-e332788e3340', metadata={'digest': 'vI7EHYpQg6bnz2PsLviZVeneXbMs9iqDQyOgUjIhClc=', 'parser': 'DoclingParser', 'source': 'sefe.pdf', 'dl_meta': {'origin': {'filename': 'tmp6m9xs_kr.pdf', 'mimetype': 'application/pdf', 'binary_hash': 4837886699614833239}, 'version': '1.0.0', 'headings': ['Konzernverhältnisse'], 'doc_items': [{'prov': [{'bbox': {'b': 335.44, 'l': 66.0, 'r': 547.758, 't': 385.944, 'coord_origin': 'BOTTOMLEFT'}, 'page_no': 28, 'charspan': [0, 395]}], 'label': 'text', 'parent': {'$ref': '#/body'}, 'children': [], 'self_ref': '#/texts/287', 'content_layer': 'body'}, {'prov': [{'bbox': {'b': 274.72, 'l': 66.0, 'r': 547.754, 't': 325.104, 'coord_origin': 'BOTTOMLEFT'}, 'page_no': 28, 'charspan': [0, 378]}], 'label': 'text', 'parent': {'$ref': '#/body'}, 'children': [], 'self_ref': '#/texts/288', 'content_layer': 'body'}, {'prov': [{'bbox': {'b': 197.08000000000004, 'l': 66.0, 'r': 167.758, 't': 206.18399999999997, 'coord_origin': 'BOTTOMLEFT'}, 'page_no': 28, 'charspan': [0, 21]}], 'label': 'text', 'parent': {'$ref': '#/body'}, 'children': [], 'self_ref': '#/texts/289', 'content_layer': 'body'}, {'prov': [{'bbox': {'b': 100.0, 'l': 66.0, 'r': 215.756, 't': 109.10400000000004, 'coord_origin': 'BOTTOMLEFT'}, 'page_no': 28, 'charspan': [0, 30]}], 'label': 'text', 'parent': {'$ref': '#/groups/1'}, 'children': [], 'self_ref': '#/texts/290', 'content_layer': 'body'}, {'prov': [{'bbox': {'b': 80.55999999999995, 'l': 299.115, 'r': 375.147, 't': 109.10400000000004, 'coord_origin': 'BOTTOMLEFT'}, 'page_no': 28, 'charspan': [0, 30]}], 'label': 'text', 'parent': {'$ref': '#/groups/1'}, 'children': [], 'self_ref': '#/texts/291', 'content_layer': 'body'}, {'prov': [{'bbox': {'b': 80.55999999999995, 'l': 66.0, 'r': 142.081, 't': 89.66399999999999, 'coord_origin': 'BOTTOMLEFT'}, 'page_no': 28, 'charspan': [0, 15]}], 'label': 'text', 'parent': {'$ref': '#/groups/1'}, 'children': [], 'self_ref': '#/texts/292', 'content_layer': 'body'}], 'schema_name': 'docling_core.transforms.chunker.DocMeta'}, 'chunk_id': 48}, page_content='Konzernverhältnisse\\nDie SEFE Storage ist eine unmittelbare 100%ige Tochtergesellschaft der SEFE Securing Energy for Europe GmbH, Berlin. Die SEFE Securing Energy for Europe GmbH ist eine unmittelbare Tochtergesellschaft der SEEHG Securing Energy for Europe Holding GmbH, Berlin, einer 100%igen Beteiligung der Bundesrepublik Deutschland, vertreten durch das Bundesministerium für Wirtschaft und Klimaschutz, Berlin.\\nDie SEEHG Securing Energy for Europe Holding GmbH stellt einen Konzernabschluss und einen Konzernlagebericht für den kleinsten und den größten Kreis von Unternehmen nach den International Financial Reporting Standards (IFRS), wie sie in der EU anzuwenden sind, und den gemäß § 315e Abs. 1 HGB ergänzend anzuwendenden Regeln auf, der im Unternehmensregister bekannt gemacht wird.\\nKassel, 14. März 2025\\nProf. Dr. Ing. Thomas Ruttmann\\nAndreas Schulz Geschäftsführer\\nGeschäftsführer'),\n",
       " Document(id='8ae531ee-71e0-4a08-aa38-1904bcf481cf', metadata={'digest': 'vI7EHYpQg6bnz2PsLviZVeneXbMs9iqDQyOgUjIhClc=', 'parser': 'DoclingParser', 'source': 'sefe.pdf', 'dl_meta': {'origin': {'filename': 'tmp6m9xs_kr.pdf', 'mimetype': 'application/pdf', 'binary_hash': 4837886699614833239}, 'version': '1.0.0', 'headings': ['Lagebericht für das Geschäftsjahr 2024'], 'doc_items': [{'prov': [{'bbox': {'b': 614.92, 'l': 66.0, 'r': 547.807, 't': 706.704, 'coord_origin': 'BOTTOMLEFT'}, 'page_no': 3, 'charspan': [0, 692]}], 'label': 'text', 'parent': {'$ref': '#/body'}, 'children': [], 'self_ref': '#/texts/8', 'content_layer': 'body'}], 'schema_name': 'docling_core.transforms.chunker.DocMeta'}, 'chunk_id': 1}, page_content='Lagebericht für das Geschäftsjahr 2024\\nDie SEFE Storage GmbH, Kassel, (SEFE Storage) ist einer der größten Erdgasspeicherbetreiber in Europa. Die Gesellschaft ist eine unmittelbare hundertprozentige Tochtergesellschaft der SEFE Securing Energy for Europe GmbH, Berlin (SEFE). Das Ziel des SEFE-Konzerns ist die Sicherung der Energieversorgung in Deutschland und Europa. Geschäftszweck der SEFE Storage ist die Speicherung von Erdgas. Zu den Geschäftsaktivitäten gehört der Betrieb von Erdgasspeichern, die operative Durchführung von Planung und Errichtung der hierzu erforderlichen Anlagen sowie die Vermarktung der zur Verfügung stehenden Kapazitäten der Erdgasspeicherlokationen Rehden, Jemgum, Haidach und der Speicherzone Nord.'),\n",
       " Document(id='22cff0e1-925f-4a4d-b654-7c1365a749dd', metadata={'digest': 'vI7EHYpQg6bnz2PsLviZVeneXbMs9iqDQyOgUjIhClc=', 'parser': 'DoclingParser', 'source': 'sefe.pdf', 'dl_meta': {'origin': {'filename': 'tmp6m9xs_kr.pdf', 'mimetype': 'application/pdf', 'binary_hash': 4837886699614833239}, 'version': '1.0.0', 'headings': ['Haftungsverhältnisse'], 'doc_items': [{'prov': [{'bbox': {'b': 626.8, 'l': 66.0, 'r': 547.755, 't': 690.984, 'coord_origin': 'BOTTOMLEFT'}, 'page_no': 27, 'charspan': [0, 459]}], 'label': 'text', 'parent': {'$ref': '#/body'}, 'children': [], 'self_ref': '#/texts/266', 'content_layer': 'body'}], 'schema_name': 'docling_core.transforms.chunker.DocMeta'}, 'chunk_id': 42}, page_content='Haftungsverhältnisse\\nEs bestehen Zahlungsgarantien in Höhe von 2.200 TEUR (Vorjahr: 2.338 TEUR) gegenüber Dritten in Bezug auf die gesamtschuldnerische Haftung für die im Rahmen einer Kreditlinie in Anspruch genommenen Darlehensverbindlichkeit der SEFE Securing Energy for Europe GmbH. Zum 31. Dezember 2024 besteht seitens SEFE Securing Energy for Europe GmbH eine Verbindlichkeit für die Bereitstellung der Kreditlinie, jedoch liegt keine Inanspruchnahme dieser Kreditlinie vor.')]"
      ]
     },
     "execution_count": 3,
     "metadata": {},
     "output_type": "execute_result"
    }
   ],
   "execution_count": 3
  }
 ],
 "metadata": {
  "kernelspec": {
   "display_name": "Python 3",
   "language": "python",
   "name": "python3"
  },
  "language_info": {
   "codemirror_mode": {
    "name": "ipython",
    "version": 2
   },
   "file_extension": ".py",
   "mimetype": "text/x-python",
   "name": "python",
   "nbconvert_exporter": "python",
   "pygments_lexer": "ipython2",
   "version": "2.7.6"
  }
 },
 "nbformat": 4,
 "nbformat_minor": 5
}
