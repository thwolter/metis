{
 "cells": [
  {
   "metadata": {
    "ExecuteTime": {
     "end_time": "2025-10-06T10:39:37.921613Z",
     "start_time": "2025-10-06T10:39:37.826548Z"
    }
   },
   "cell_type": "code",
   "source": [
    "import os\n",
    "\n",
    "from notebooks.retrieve2 import graph_builder\n",
    "from src.core.config import get_settings\n",
    "os.chdir('/')\n",
    "get_settings.cache_clear()\n",
    "settings = get_settings()"
   ],
   "id": "b938615846a96840",
   "outputs": [],
   "execution_count": 1
  },
  {
   "metadata": {
    "ExecuteTime": {
     "end_time": "2025-10-06T18:43:00.411915Z",
     "start_time": "2025-10-06T18:43:00.398929Z"
    }
   },
   "cell_type": "code",
   "source": [
    "from agent.tools import vs\n",
    "from langchain_core.documents import Document\n",
    "from langgraph.prebuilt.chat_agent_executor import AgentState\n",
    "from typing import Annotated, List\n",
    "from langchain_core.tools import tool\n",
    "\n",
    "def reduce_str(x: str) -> str:\n",
    "    return x.replace('##', '').strip()\n",
    "\n",
    "class DocumentState(AgentState):\n",
    "    doctype: Annotated[str, reduce_str]\n",
    "\n",
    "@tool\n",
    "def retriever(\n",
    "        query: str,\n",
    "        digest: str,\n",
    ") -> List[Document]:\n",
    "    \"\"\"Retrieve documents from the vector store.\n",
    "\n",
    "    Args:\n",
    "        query: The query string.\n",
    "        :param query:\n",
    "        :param digest:\n",
    "        :param state:\n",
    "\n",
    "    \"\"\"\n",
    "    kwargs = {\n",
    "        'filter': {'digest': digest},\n",
    "    }\n",
    "\n",
    "    return vs.search(query, 'similarity', **kwargs)"
   ],
   "id": "2b723b336f8b4021",
   "outputs": [],
   "execution_count": 40
  },
  {
   "metadata": {
    "ExecuteTime": {
     "end_time": "2025-10-06T18:44:20.318797Z",
     "start_time": "2025-10-06T18:44:18.738512Z"
    }
   },
   "cell_type": "code",
   "source": "docs = retriever.invoke({'query': 'Welche company', 'digest': digest_hr})",
   "id": "913d4478d7cf3f8f",
   "outputs": [],
   "execution_count": 43
  },
  {
   "metadata": {
    "ExecuteTime": {
     "end_time": "2025-10-06T19:02:35.312898Z",
     "start_time": "2025-10-06T19:02:35.245940Z"
    }
   },
   "cell_type": "code",
   "source": [
    "from langgraph.constants import START, END\n",
    "import json\n",
    "from langgraph.graph import StateGraph, add_messages\n",
    "from typing import TypedDict\n",
    "from langchain_core.messages import ToolMessage\n",
    "\n",
    "class State(TypedDict):\n",
    "    messages: Annotated[list, add_messages]\n",
    "\n",
    "\n",
    "graph_builder = StateGraph(State)\n",
    "tools = [retriever]\n",
    "\n",
    "llm_with_tools = model.bind_tools(tools)\n",
    "\n",
    "def chatbot(state: State):\n",
    "    return {'messages': llm_with_tools.invoke(state['messages'])}\n",
    "\n",
    "graph_builder.add_node(chatbot)\n",
    "graph_builder.add_edge(START, chatbot)\n",
    "graph_builder.add_edge(chatbot, END)\n",
    "graph_builder.compile()\n",
    "\n"
   ],
   "id": "401a3a20e51a4de7",
   "outputs": [
    {
     "ename": "TypeError",
     "evalue": "'function' object is not iterable",
     "output_type": "error",
     "traceback": [
      "\u001B[31m---------------------------------------------------------------------------\u001B[39m",
      "\u001B[31mTypeError\u001B[39m                                 Traceback (most recent call last)",
      "\u001B[36mCell\u001B[39m\u001B[36m \u001B[39m\u001B[32mIn[53]\u001B[39m\u001B[32m, line 21\u001B[39m\n\u001B[32m     19\u001B[39m graph_builder.add_node(chatbot)\n\u001B[32m     20\u001B[39m graph_builder.add_edge(START, chatbot)\n\u001B[32m---> \u001B[39m\u001B[32m21\u001B[39m \u001B[43mgraph_builder\u001B[49m\u001B[43m.\u001B[49m\u001B[43madd_edge\u001B[49m\u001B[43m(\u001B[49m\u001B[43mchatbot\u001B[49m\u001B[43m,\u001B[49m\u001B[43m \u001B[49m\u001B[43mEND\u001B[49m\u001B[43m)\u001B[49m\n\u001B[32m     22\u001B[39m graph_builder.compile()\n",
      "\u001B[36mFile \u001B[39m\u001B[32m~/PycharmProjects/FDE/classifier/.venv/lib/python3.12/site-packages/langgraph/graph/state.py:603\u001B[39m, in \u001B[36mStateGraph.add_edge\u001B[39m\u001B[34m(self, start_key, end_key)\u001B[39m\n\u001B[32m    600\u001B[39m     \u001B[38;5;28mself\u001B[39m.edges.add((start_key, end_key))\n\u001B[32m    601\u001B[39m     \u001B[38;5;28;01mreturn\u001B[39;00m \u001B[38;5;28mself\u001B[39m\n\u001B[32m--> \u001B[39m\u001B[32m603\u001B[39m \u001B[43m\u001B[49m\u001B[38;5;28;43;01mfor\u001B[39;49;00m\u001B[43m \u001B[49m\u001B[43mstart\u001B[49m\u001B[43m \u001B[49m\u001B[38;5;129;43;01min\u001B[39;49;00m\u001B[43m \u001B[49m\u001B[43mstart_key\u001B[49m\u001B[43m:\u001B[49m\n\u001B[32m    604\u001B[39m \u001B[43m    \u001B[49m\u001B[38;5;28;43;01mif\u001B[39;49;00m\u001B[43m \u001B[49m\u001B[43mstart\u001B[49m\u001B[43m \u001B[49m\u001B[43m==\u001B[49m\u001B[43m \u001B[49m\u001B[43mEND\u001B[49m\u001B[43m:\u001B[49m\n\u001B[32m    605\u001B[39m \u001B[43m        \u001B[49m\u001B[38;5;28;43;01mraise\u001B[39;49;00m\u001B[43m \u001B[49m\u001B[38;5;167;43;01mValueError\u001B[39;49;00m\u001B[43m(\u001B[49m\u001B[33;43m\"\u001B[39;49m\u001B[33;43mEND cannot be a start node\u001B[39;49m\u001B[33;43m\"\u001B[39;49m\u001B[43m)\u001B[49m\n",
      "\u001B[31mTypeError\u001B[39m: 'function' object is not iterable"
     ]
    }
   ],
   "execution_count": 53
  },
  {
   "metadata": {},
   "cell_type": "code",
   "outputs": [
    {
     "data": {
      "text/plain": [
       "AIMessage(content='Sonstige Rechtsverhältnisse:\\n\\nMit der Germania GmbH mit Sitz in Berlin (Amtsgericht Charlottenburg HRB 36569) ist am 15.12.2017 ein Gewinnabführungsvertrag abgeschlossen worden. Dem hat die Gesellschafterversammlung vom 15.12.2017 zugestimmt. Die Gesellschaft ist als übernehmender Rechtsträger aufgrund des Verschmelzungsvertrages vom 02.09.2020 sowie der Zustimmungsbeschlüsse der beteiligten Rechtsträger vom selben Tag mit der Astora Beteiligungs‑GmbH mit Sitz in Kassel (Amtsgericht Kassel HRB 15690) verschmolzen.\\n\\nHinweis: Ich habe offensichtliche OCR‑Fehler und Sonderzeichen bereinigt und Datums‑/Begriffsannahmen (z. B. 15.12.2017) aus dem Kontext korrigiert. Wenn eine andere Jahreszahl oder ein anderer Begriff gemeint war, sagen Sie bitte Bescheid.', additional_kwargs={'refusal': None}, response_metadata={'token_usage': {'completion_tokens': 1177, 'prompt_tokens': 291, 'total_tokens': 1468, 'completion_tokens_details': {'accepted_prediction_tokens': 0, 'audio_tokens': 0, 'reasoning_tokens': 960, 'rejected_prediction_tokens': 0}, 'prompt_tokens_details': {'audio_tokens': 0, 'cached_tokens': 0}}, 'model_name': 'gpt-5-mini-2025-08-07', 'system_fingerprint': None, 'id': 'chatcmpl-CNkWbEP8mP75jng64syYMP3qHGK2b', 'service_tier': 'default', 'finish_reason': 'stop', 'logprobs': None}, id='run--6057a5e0-4ed3-499c-a94f-319b015e8c9a-0', usage_metadata={'input_tokens': 291, 'output_tokens': 1177, 'total_tokens': 1468, 'input_token_details': {'audio': 0, 'cache_read': 0}, 'output_token_details': {'audio': 0, 'reasoning': 960}})"
      ]
     },
     "execution_count": 51,
     "metadata": {},
     "output_type": "execute_result"
    }
   ],
   "execution_count": 51,
   "source": [
    "class BasicToolNode:\n",
    "    def __init__(self, tools: list) -> None:\n",
    "        self.tools_by_name = (tool.name for tool in tools)\n",
    "\n",
    "    def __call__(self, inputs: dict):\n",
    "        if messages := inputs.get('messages', []):\n",
    "            message = messages[-1]\n",
    "        else:\n",
    "            raise ValueError('No messages found in inputs')\n",
    "        outputs = []\n",
    "        for tool_call in message.tool_calls:\n",
    "            tool_result = self.tools_by_name[tool_call['name']].invoke(tool_call['args'])\n",
    "            outputs.append(ToolMessage(\n",
    "                name=tool_call['name'],\n",
    "                content=json.dumps(tool_result),\n",
    "                tool_call_id=tool_call['id']\n",
    "            ))\n",
    "        return {'messages': outputs}\n",
    "\n",
    "tool_node = BasicToolNode(tools)\n",
    "graph_builder.add_node('tools', tool_node)\n"
   ],
   "id": "b4f2cea49a94db5"
  },
  {
   "metadata": {
    "ExecuteTime": {
     "end_time": "2025-10-06T18:45:32.826414Z",
     "start_time": "2025-10-06T18:45:31.190472Z"
    }
   },
   "cell_type": "code",
   "source": [
    "from IPython.display import Image, display\n",
    "from langgraph.prebuilt import create_react_agent\n",
    "from langchain.chat_models import init_chat_model\n",
    "\n",
    "\n",
    "SYSTEM_PROMPT = \"\"\"You are a helpful assistant. Identify the document type using the retrieved documents. When you are uncertain, try a different set of documents or ask for clarification.\"\"\"\n",
    "\n",
    "model = init_chat_model(model='openai:gpt-5-mini', temperature=0)\n",
    "tools = [retriever]\n",
    "\n",
    "agent = create_react_agent(\n",
    "    model=model,\n",
    "    tools=tools,\n",
    "    prompt=SYSTEM_PROMPT,\n",
    ").with_config({'recursion_limit': 20})\n",
    "\n",
    "display(Image(agent.get_graph(xray=True).draw_mermaid_png()))"
   ],
   "id": "2877b1246093d1e9",
   "outputs": [
    {
     "data": {
      "image/png": "[encoded data removed]",
      "text/plain": [
       "<IPython.core.display.Image object>"
      ]
     },
     "metadata": {},
     "output_type": "display_data"
    }
   ],
   "execution_count": 47
  },
  {
   "metadata": {
    "ExecuteTime": {
     "end_time": "2025-10-06T15:02:25.267328Z",
     "start_time": "2025-10-06T15:01:48.510756Z"
    }
   },
   "cell_type": "code",
   "source": [
    "from notebooks.utils import format_messages\n",
    "from langchain_core.messages import HumanMessage\n",
    "\n",
    "digest_hr = 'dkGJT3drmokocKeOni90TR9qsgdIURN6kTmBFe0lnfU='\n",
    "digest_ar = 'vI7EHYpQg6bnz2PsLviZVeneXbMs9iqDQyOgUjIhClc='\n",
    "\n",
    "msg = {'messages': HumanMessage(f'What is the document type for digest {digest_ar}')}\n",
    "# msg = HumanMessage(content=f'What is the document type for digest {digest_ar}')\n",
    "\n",
    "result = agent.invoke(msg)\n",
    "format_messages(result['messages'])"
   ],
   "id": "c6a3061eeaadef68",
   "outputs": [
    {
     "data": {
      "text/plain": [
       "\u001B[34m╭─\u001B[0m\u001B[34m──────────────────────────────────────────────────\u001B[0m\u001B[34m 🧑 Human \u001B[0m\u001B[34m───────────────────────────────────────────────────\u001B[0m\u001B[34m─╮\u001B[0m\n",
       "\u001B[34m│\u001B[0m What is the document type for digest vI7EHYpQg6bnz2PsLviZVeneXbMs9iqDQyOgUjIhClc=                               \u001B[34m│\u001B[0m\n",
       "\u001B[34m╰─────────────────────────────────────────────────────────────────────────────────────────────────────────────────╯\u001B[0m\n"
      ],
      "text/html": [
       "<pre style=\"white-space:pre;overflow-x:auto;line-height:normal;font-family:Menlo,'DejaVu Sans Mono',consolas,'Courier New',monospace\"><span style=\"color: #000080; text-decoration-color: #000080\">╭─────────────────────────────────────────────────── 🧑 Human ────────────────────────────────────────────────────╮</span>\n",
       "<span style=\"color: #000080; text-decoration-color: #000080\">│</span> What is the document type for digest vI7EHYpQg6bnz2PsLviZVeneXbMs9iqDQyOgUjIhClc=                               <span style=\"color: #000080; text-decoration-color: #000080\">│</span>\n",
       "<span style=\"color: #000080; text-decoration-color: #000080\">╰─────────────────────────────────────────────────────────────────────────────────────────────────────────────────╯</span>\n",
       "</pre>\n"
      ]
     },
     "metadata": {},
     "output_type": "display_data"
    },
    {
     "data": {
      "text/plain": [
       "\u001B[37m╭─\u001B[0m\u001B[37m────────────────────────────────────────────────────\u001B[0m\u001B[37m 📝 AI \u001B[0m\u001B[37m────────────────────────────────────────────────────\u001B[0m\u001B[37m─╮\u001B[0m\n",
       "\u001B[37m│\u001B[0m                                                                                                                 \u001B[37m│\u001B[0m\n",
       "\u001B[37m│\u001B[0m                                                                                                                 \u001B[37m│\u001B[0m\n",
       "\u001B[37m│\u001B[0m 🔧 Tool Call: retriever                                                                                         \u001B[37m│\u001B[0m\n",
       "\u001B[37m│\u001B[0m    Args: {                                                                                                      \u001B[37m│\u001B[0m\n",
       "\u001B[37m│\u001B[0m   \"query\": \"document type\",                                                                                     \u001B[37m│\u001B[0m\n",
       "\u001B[37m│\u001B[0m   \"digest\": \"vI7EHYpQg6bnz2PsLviZVeneXbMs9iqDQyOgUjIhClc=\"                                                      \u001B[37m│\u001B[0m\n",
       "\u001B[37m│\u001B[0m }                                                                                                               \u001B[37m│\u001B[0m\n",
       "\u001B[37m│\u001B[0m    ID: call_uDgwJtZR0ZL9CWyB0w2Swaze                                                                            \u001B[37m│\u001B[0m\n",
       "\u001B[37m╰─────────────────────────────────────────────────────────────────────────────────────────────────────────────────╯\u001B[0m\n"
      ],
      "text/html": [
       "<pre style=\"white-space:pre;overflow-x:auto;line-height:normal;font-family:Menlo,'DejaVu Sans Mono',consolas,'Courier New',monospace\"><span style=\"color: #c0c0c0; text-decoration-color: #c0c0c0\">╭───────────────────────────────────────────────────── 📝 AI ─────────────────────────────────────────────────────╮</span>\n",
       "<span style=\"color: #c0c0c0; text-decoration-color: #c0c0c0\">│</span>                                                                                                                 <span style=\"color: #c0c0c0; text-decoration-color: #c0c0c0\">│</span>\n",
       "<span style=\"color: #c0c0c0; text-decoration-color: #c0c0c0\">│</span>                                                                                                                 <span style=\"color: #c0c0c0; text-decoration-color: #c0c0c0\">│</span>\n",
       "<span style=\"color: #c0c0c0; text-decoration-color: #c0c0c0\">│</span> 🔧 Tool Call: retriever                                                                                         <span style=\"color: #c0c0c0; text-decoration-color: #c0c0c0\">│</span>\n",
       "<span style=\"color: #c0c0c0; text-decoration-color: #c0c0c0\">│</span>    Args: {                                                                                                      <span style=\"color: #c0c0c0; text-decoration-color: #c0c0c0\">│</span>\n",
       "<span style=\"color: #c0c0c0; text-decoration-color: #c0c0c0\">│</span>   \"query\": \"document type\",                                                                                     <span style=\"color: #c0c0c0; text-decoration-color: #c0c0c0\">│</span>\n",
       "<span style=\"color: #c0c0c0; text-decoration-color: #c0c0c0\">│</span>   \"digest\": \"vI7EHYpQg6bnz2PsLviZVeneXbMs9iqDQyOgUjIhClc=\"                                                      <span style=\"color: #c0c0c0; text-decoration-color: #c0c0c0\">│</span>\n",
       "<span style=\"color: #c0c0c0; text-decoration-color: #c0c0c0\">│</span> }                                                                                                               <span style=\"color: #c0c0c0; text-decoration-color: #c0c0c0\">│</span>\n",
       "<span style=\"color: #c0c0c0; text-decoration-color: #c0c0c0\">│</span>    ID: call_uDgwJtZR0ZL9CWyB0w2Swaze                                                                            <span style=\"color: #c0c0c0; text-decoration-color: #c0c0c0\">│</span>\n",
       "<span style=\"color: #c0c0c0; text-decoration-color: #c0c0c0\">╰─────────────────────────────────────────────────────────────────────────────────────────────────────────────────╯</span>\n",
       "</pre>\n"
      ]
     },
     "metadata": {},
     "output_type": "display_data"
    },
    {
     "data": {
      "text/plain": [
       "\u001B[33m╭─\u001B[0m\u001B[33m───────────────────────────────────────────────\u001B[0m\u001B[33m 🔧 Tool Output \u001B[0m\u001B[33m────────────────────────────────────────────────\u001B[0m\u001B[33m─╮\u001B[0m\n",
       "\u001B[33m│\u001B[0m Error: 1 validation error for retriever                                                                         \u001B[33m│\u001B[0m\n",
       "\u001B[33m│\u001B[0m state.doctype                                                                                                   \u001B[33m│\u001B[0m\n",
       "\u001B[33m│\u001B[0m   Field required [type=missing, input_value={'messages': [HumanMessag..., 'remaining_steps': 19},               \u001B[33m│\u001B[0m\n",
       "\u001B[33m│\u001B[0m input_type=dict]                                                                                                \u001B[33m│\u001B[0m\n",
       "\u001B[33m│\u001B[0m     For further information visit https://errors.pydantic.dev/2.11/v/missing                                    \u001B[33m│\u001B[0m\n",
       "\u001B[33m│\u001B[0m  Please fix your mistakes.                                                                                      \u001B[33m│\u001B[0m\n",
       "\u001B[33m╰─────────────────────────────────────────────────────────────────────────────────────────────────────────────────╯\u001B[0m\n"
      ],
      "text/html": [
       "<pre style=\"white-space:pre;overflow-x:auto;line-height:normal;font-family:Menlo,'DejaVu Sans Mono',consolas,'Courier New',monospace\"><span style=\"color: #808000; text-decoration-color: #808000\">╭──────────────────────────────────────────────── 🔧 Tool Output ─────────────────────────────────────────────────╮</span>\n",
       "<span style=\"color: #808000; text-decoration-color: #808000\">│</span> Error: 1 validation error for retriever                                                                         <span style=\"color: #808000; text-decoration-color: #808000\">│</span>\n",
       "<span style=\"color: #808000; text-decoration-color: #808000\">│</span> state.doctype                                                                                                   <span style=\"color: #808000; text-decoration-color: #808000\">│</span>\n",
       "<span style=\"color: #808000; text-decoration-color: #808000\">│</span>   Field required [type=missing, input_value={'messages': [HumanMessag..., 'remaining_steps': 19},               <span style=\"color: #808000; text-decoration-color: #808000\">│</span>\n",
       "<span style=\"color: #808000; text-decoration-color: #808000\">│</span> input_type=dict]                                                                                                <span style=\"color: #808000; text-decoration-color: #808000\">│</span>\n",
       "<span style=\"color: #808000; text-decoration-color: #808000\">│</span>     For further information visit https://errors.pydantic.dev/2.11/v/missing                                    <span style=\"color: #808000; text-decoration-color: #808000\">│</span>\n",
       "<span style=\"color: #808000; text-decoration-color: #808000\">│</span>  Please fix your mistakes.                                                                                      <span style=\"color: #808000; text-decoration-color: #808000\">│</span>\n",
       "<span style=\"color: #808000; text-decoration-color: #808000\">╰─────────────────────────────────────────────────────────────────────────────────────────────────────────────────╯</span>\n",
       "</pre>\n"
      ]
     },
     "metadata": {},
     "output_type": "display_data"
    },
    {
     "data": {
      "text/plain": [
       "\u001B[37m╭─\u001B[0m\u001B[37m────────────────────────────────────────────────────\u001B[0m\u001B[37m 📝 AI \u001B[0m\u001B[37m────────────────────────────────────────────────────\u001B[0m\u001B[37m─╮\u001B[0m\n",
       "\u001B[37m│\u001B[0m                                                                                                                 \u001B[37m│\u001B[0m\n",
       "\u001B[37m│\u001B[0m                                                                                                                 \u001B[37m│\u001B[0m\n",
       "\u001B[37m│\u001B[0m 🔧 Tool Call: retriever                                                                                         \u001B[37m│\u001B[0m\n",
       "\u001B[37m│\u001B[0m    Args: {                                                                                                      \u001B[37m│\u001B[0m\n",
       "\u001B[37m│\u001B[0m   \"query\": \"What is the document type for this digest?\",                                                        \u001B[37m│\u001B[0m\n",
       "\u001B[37m│\u001B[0m   \"digest\": \"vI7EHYpQg6bnz2PsLviZVeneXbMs9iqDQyOgUjIhClc=\",                                                     \u001B[37m│\u001B[0m\n",
       "\u001B[37m│\u001B[0m   \"state\": {                                                                                                    \u001B[37m│\u001B[0m\n",
       "\u001B[37m│\u001B[0m     \"doctype\": \"\"                                                                                               \u001B[37m│\u001B[0m\n",
       "\u001B[37m│\u001B[0m   }                                                                                                             \u001B[37m│\u001B[0m\n",
       "\u001B[37m│\u001B[0m }                                                                                                               \u001B[37m│\u001B[0m\n",
       "\u001B[37m│\u001B[0m    ID: call_Yadvj4669Xz96ATSUt8XeMyk                                                                            \u001B[37m│\u001B[0m\n",
       "\u001B[37m╰─────────────────────────────────────────────────────────────────────────────────────────────────────────────────╯\u001B[0m\n"
      ],
      "text/html": [
       "<pre style=\"white-space:pre;overflow-x:auto;line-height:normal;font-family:Menlo,'DejaVu Sans Mono',consolas,'Courier New',monospace\"><span style=\"color: #c0c0c0; text-decoration-color: #c0c0c0\">╭───────────────────────────────────────────────────── 📝 AI ─────────────────────────────────────────────────────╮</span>\n",
       "<span style=\"color: #c0c0c0; text-decoration-color: #c0c0c0\">│</span>                                                                                                                 <span style=\"color: #c0c0c0; text-decoration-color: #c0c0c0\">│</span>\n",
       "<span style=\"color: #c0c0c0; text-decoration-color: #c0c0c0\">│</span>                                                                                                                 <span style=\"color: #c0c0c0; text-decoration-color: #c0c0c0\">│</span>\n",
       "<span style=\"color: #c0c0c0; text-decoration-color: #c0c0c0\">│</span> 🔧 Tool Call: retriever                                                                                         <span style=\"color: #c0c0c0; text-decoration-color: #c0c0c0\">│</span>\n",
       "<span style=\"color: #c0c0c0; text-decoration-color: #c0c0c0\">│</span>    Args: {                                                                                                      <span style=\"color: #c0c0c0; text-decoration-color: #c0c0c0\">│</span>\n",
       "<span style=\"color: #c0c0c0; text-decoration-color: #c0c0c0\">│</span>   \"query\": \"What is the document type for this digest?\",                                                        <span style=\"color: #c0c0c0; text-decoration-color: #c0c0c0\">│</span>\n",
       "<span style=\"color: #c0c0c0; text-decoration-color: #c0c0c0\">│</span>   \"digest\": \"vI7EHYpQg6bnz2PsLviZVeneXbMs9iqDQyOgUjIhClc=\",                                                     <span style=\"color: #c0c0c0; text-decoration-color: #c0c0c0\">│</span>\n",
       "<span style=\"color: #c0c0c0; text-decoration-color: #c0c0c0\">│</span>   \"state\": {                                                                                                    <span style=\"color: #c0c0c0; text-decoration-color: #c0c0c0\">│</span>\n",
       "<span style=\"color: #c0c0c0; text-decoration-color: #c0c0c0\">│</span>     \"doctype\": \"\"                                                                                               <span style=\"color: #c0c0c0; text-decoration-color: #c0c0c0\">│</span>\n",
       "<span style=\"color: #c0c0c0; text-decoration-color: #c0c0c0\">│</span>   }                                                                                                             <span style=\"color: #c0c0c0; text-decoration-color: #c0c0c0\">│</span>\n",
       "<span style=\"color: #c0c0c0; text-decoration-color: #c0c0c0\">│</span> }                                                                                                               <span style=\"color: #c0c0c0; text-decoration-color: #c0c0c0\">│</span>\n",
       "<span style=\"color: #c0c0c0; text-decoration-color: #c0c0c0\">│</span>    ID: call_Yadvj4669Xz96ATSUt8XeMyk                                                                            <span style=\"color: #c0c0c0; text-decoration-color: #c0c0c0\">│</span>\n",
       "<span style=\"color: #c0c0c0; text-decoration-color: #c0c0c0\">╰─────────────────────────────────────────────────────────────────────────────────────────────────────────────────╯</span>\n",
       "</pre>\n"
      ]
     },
     "metadata": {},
     "output_type": "display_data"
    },
    {
     "data": {
      "text/plain": [
       "\u001B[33m╭─\u001B[0m\u001B[33m───────────────────────────────────────────────\u001B[0m\u001B[33m 🔧 Tool Output \u001B[0m\u001B[33m────────────────────────────────────────────────\u001B[0m\u001B[33m─╮\u001B[0m\n",
       "\u001B[33m│\u001B[0m Error: 1 validation error for retriever                                                                         \u001B[33m│\u001B[0m\n",
       "\u001B[33m│\u001B[0m state.doctype                                                                                                   \u001B[33m│\u001B[0m\n",
       "\u001B[33m│\u001B[0m   Field required [type=missing, input_value={'messages': [HumanMessag..., 'remaining_steps': 17},               \u001B[33m│\u001B[0m\n",
       "\u001B[33m│\u001B[0m input_type=dict]                                                                                                \u001B[33m│\u001B[0m\n",
       "\u001B[33m│\u001B[0m     For further information visit https://errors.pydantic.dev/2.11/v/missing                                    \u001B[33m│\u001B[0m\n",
       "\u001B[33m│\u001B[0m  Please fix your mistakes.                                                                                      \u001B[33m│\u001B[0m\n",
       "\u001B[33m╰─────────────────────────────────────────────────────────────────────────────────────────────────────────────────╯\u001B[0m\n"
      ],
      "text/html": [
       "<pre style=\"white-space:pre;overflow-x:auto;line-height:normal;font-family:Menlo,'DejaVu Sans Mono',consolas,'Courier New',monospace\"><span style=\"color: #808000; text-decoration-color: #808000\">╭──────────────────────────────────────────────── 🔧 Tool Output ─────────────────────────────────────────────────╮</span>\n",
       "<span style=\"color: #808000; text-decoration-color: #808000\">│</span> Error: 1 validation error for retriever                                                                         <span style=\"color: #808000; text-decoration-color: #808000\">│</span>\n",
       "<span style=\"color: #808000; text-decoration-color: #808000\">│</span> state.doctype                                                                                                   <span style=\"color: #808000; text-decoration-color: #808000\">│</span>\n",
       "<span style=\"color: #808000; text-decoration-color: #808000\">│</span>   Field required [type=missing, input_value={'messages': [HumanMessag..., 'remaining_steps': 17},               <span style=\"color: #808000; text-decoration-color: #808000\">│</span>\n",
       "<span style=\"color: #808000; text-decoration-color: #808000\">│</span> input_type=dict]                                                                                                <span style=\"color: #808000; text-decoration-color: #808000\">│</span>\n",
       "<span style=\"color: #808000; text-decoration-color: #808000\">│</span>     For further information visit https://errors.pydantic.dev/2.11/v/missing                                    <span style=\"color: #808000; text-decoration-color: #808000\">│</span>\n",
       "<span style=\"color: #808000; text-decoration-color: #808000\">│</span>  Please fix your mistakes.                                                                                      <span style=\"color: #808000; text-decoration-color: #808000\">│</span>\n",
       "<span style=\"color: #808000; text-decoration-color: #808000\">╰─────────────────────────────────────────────────────────────────────────────────────────────────────────────────╯</span>\n",
       "</pre>\n"
      ]
     },
     "metadata": {},
     "output_type": "display_data"
    },
    {
     "data": {
      "text/plain": [
       "\u001B[37m╭─\u001B[0m\u001B[37m────────────────────────────────────────────────────\u001B[0m\u001B[37m 📝 AI \u001B[0m\u001B[37m────────────────────────────────────────────────────\u001B[0m\u001B[37m─╮\u001B[0m\n",
       "\u001B[37m│\u001B[0m                                                                                                                 \u001B[37m│\u001B[0m\n",
       "\u001B[37m│\u001B[0m                                                                                                                 \u001B[37m│\u001B[0m\n",
       "\u001B[37m│\u001B[0m 🔧 Tool Call: retriever                                                                                         \u001B[37m│\u001B[0m\n",
       "\u001B[37m│\u001B[0m    Args: {                                                                                                      \u001B[37m│\u001B[0m\n",
       "\u001B[37m│\u001B[0m   \"query\": \"vI7EHYpQg6bnz2PsLviZVeneXbMs9iqDQyOgUjIhClc=\",                                                      \u001B[37m│\u001B[0m\n",
       "\u001B[37m│\u001B[0m   \"digest\": \"vI7EHYpQg6bnz2PsLviZVeneXbMs9iqDQyOgUjIhClc=\",                                                     \u001B[37m│\u001B[0m\n",
       "\u001B[37m│\u001B[0m   \"state\": {                                                                                                    \u001B[37m│\u001B[0m\n",
       "\u001B[37m│\u001B[0m     \"doctype\": \"unknown\"                                                                                        \u001B[37m│\u001B[0m\n",
       "\u001B[37m│\u001B[0m   }                                                                                                             \u001B[37m│\u001B[0m\n",
       "\u001B[37m│\u001B[0m }                                                                                                               \u001B[37m│\u001B[0m\n",
       "\u001B[37m│\u001B[0m    ID: call_OTRMtcBPKG05zOg3Pto2zBqK                                                                            \u001B[37m│\u001B[0m\n",
       "\u001B[37m╰─────────────────────────────────────────────────────────────────────────────────────────────────────────────────╯\u001B[0m\n"
      ],
      "text/html": [
       "<pre style=\"white-space:pre;overflow-x:auto;line-height:normal;font-family:Menlo,'DejaVu Sans Mono',consolas,'Courier New',monospace\"><span style=\"color: #c0c0c0; text-decoration-color: #c0c0c0\">╭───────────────────────────────────────────────────── 📝 AI ─────────────────────────────────────────────────────╮</span>\n",
       "<span style=\"color: #c0c0c0; text-decoration-color: #c0c0c0\">│</span>                                                                                                                 <span style=\"color: #c0c0c0; text-decoration-color: #c0c0c0\">│</span>\n",
       "<span style=\"color: #c0c0c0; text-decoration-color: #c0c0c0\">│</span>                                                                                                                 <span style=\"color: #c0c0c0; text-decoration-color: #c0c0c0\">│</span>\n",
       "<span style=\"color: #c0c0c0; text-decoration-color: #c0c0c0\">│</span> 🔧 Tool Call: retriever                                                                                         <span style=\"color: #c0c0c0; text-decoration-color: #c0c0c0\">│</span>\n",
       "<span style=\"color: #c0c0c0; text-decoration-color: #c0c0c0\">│</span>    Args: {                                                                                                      <span style=\"color: #c0c0c0; text-decoration-color: #c0c0c0\">│</span>\n",
       "<span style=\"color: #c0c0c0; text-decoration-color: #c0c0c0\">│</span>   \"query\": \"vI7EHYpQg6bnz2PsLviZVeneXbMs9iqDQyOgUjIhClc=\",                                                      <span style=\"color: #c0c0c0; text-decoration-color: #c0c0c0\">│</span>\n",
       "<span style=\"color: #c0c0c0; text-decoration-color: #c0c0c0\">│</span>   \"digest\": \"vI7EHYpQg6bnz2PsLviZVeneXbMs9iqDQyOgUjIhClc=\",                                                     <span style=\"color: #c0c0c0; text-decoration-color: #c0c0c0\">│</span>\n",
       "<span style=\"color: #c0c0c0; text-decoration-color: #c0c0c0\">│</span>   \"state\": {                                                                                                    <span style=\"color: #c0c0c0; text-decoration-color: #c0c0c0\">│</span>\n",
       "<span style=\"color: #c0c0c0; text-decoration-color: #c0c0c0\">│</span>     \"doctype\": \"unknown\"                                                                                        <span style=\"color: #c0c0c0; text-decoration-color: #c0c0c0\">│</span>\n",
       "<span style=\"color: #c0c0c0; text-decoration-color: #c0c0c0\">│</span>   }                                                                                                             <span style=\"color: #c0c0c0; text-decoration-color: #c0c0c0\">│</span>\n",
       "<span style=\"color: #c0c0c0; text-decoration-color: #c0c0c0\">│</span> }                                                                                                               <span style=\"color: #c0c0c0; text-decoration-color: #c0c0c0\">│</span>\n",
       "<span style=\"color: #c0c0c0; text-decoration-color: #c0c0c0\">│</span>    ID: call_OTRMtcBPKG05zOg3Pto2zBqK                                                                            <span style=\"color: #c0c0c0; text-decoration-color: #c0c0c0\">│</span>\n",
       "<span style=\"color: #c0c0c0; text-decoration-color: #c0c0c0\">╰─────────────────────────────────────────────────────────────────────────────────────────────────────────────────╯</span>\n",
       "</pre>\n"
      ]
     },
     "metadata": {},
     "output_type": "display_data"
    },
    {
     "data": {
      "text/plain": [
       "\u001B[33m╭─\u001B[0m\u001B[33m───────────────────────────────────────────────\u001B[0m\u001B[33m 🔧 Tool Output \u001B[0m\u001B[33m────────────────────────────────────────────────\u001B[0m\u001B[33m─╮\u001B[0m\n",
       "\u001B[33m│\u001B[0m Error: 1 validation error for retriever                                                                         \u001B[33m│\u001B[0m\n",
       "\u001B[33m│\u001B[0m state.doctype                                                                                                   \u001B[33m│\u001B[0m\n",
       "\u001B[33m│\u001B[0m   Field required [type=missing, input_value={'messages': [HumanMessag..., 'remaining_steps': 15},               \u001B[33m│\u001B[0m\n",
       "\u001B[33m│\u001B[0m input_type=dict]                                                                                                \u001B[33m│\u001B[0m\n",
       "\u001B[33m│\u001B[0m     For further information visit https://errors.pydantic.dev/2.11/v/missing                                    \u001B[33m│\u001B[0m\n",
       "\u001B[33m│\u001B[0m  Please fix your mistakes.                                                                                      \u001B[33m│\u001B[0m\n",
       "\u001B[33m╰─────────────────────────────────────────────────────────────────────────────────────────────────────────────────╯\u001B[0m\n"
      ],
      "text/html": [
       "<pre style=\"white-space:pre;overflow-x:auto;line-height:normal;font-family:Menlo,'DejaVu Sans Mono',consolas,'Courier New',monospace\"><span style=\"color: #808000; text-decoration-color: #808000\">╭──────────────────────────────────────────────── 🔧 Tool Output ─────────────────────────────────────────────────╮</span>\n",
       "<span style=\"color: #808000; text-decoration-color: #808000\">│</span> Error: 1 validation error for retriever                                                                         <span style=\"color: #808000; text-decoration-color: #808000\">│</span>\n",
       "<span style=\"color: #808000; text-decoration-color: #808000\">│</span> state.doctype                                                                                                   <span style=\"color: #808000; text-decoration-color: #808000\">│</span>\n",
       "<span style=\"color: #808000; text-decoration-color: #808000\">│</span>   Field required [type=missing, input_value={'messages': [HumanMessag..., 'remaining_steps': 15},               <span style=\"color: #808000; text-decoration-color: #808000\">│</span>\n",
       "<span style=\"color: #808000; text-decoration-color: #808000\">│</span> input_type=dict]                                                                                                <span style=\"color: #808000; text-decoration-color: #808000\">│</span>\n",
       "<span style=\"color: #808000; text-decoration-color: #808000\">│</span>     For further information visit https://errors.pydantic.dev/2.11/v/missing                                    <span style=\"color: #808000; text-decoration-color: #808000\">│</span>\n",
       "<span style=\"color: #808000; text-decoration-color: #808000\">│</span>  Please fix your mistakes.                                                                                      <span style=\"color: #808000; text-decoration-color: #808000\">│</span>\n",
       "<span style=\"color: #808000; text-decoration-color: #808000\">╰─────────────────────────────────────────────────────────────────────────────────────────────────────────────────╯</span>\n",
       "</pre>\n"
      ]
     },
     "metadata": {},
     "output_type": "display_data"
    },
    {
     "data": {
      "text/plain": [
       "\u001B[37m╭─\u001B[0m\u001B[37m────────────────────────────────────────────────────\u001B[0m\u001B[37m 📝 AI \u001B[0m\u001B[37m────────────────────────────────────────────────────\u001B[0m\u001B[37m─╮\u001B[0m\n",
       "\u001B[37m│\u001B[0m                                                                                                                 \u001B[37m│\u001B[0m\n",
       "\u001B[37m│\u001B[0m                                                                                                                 \u001B[37m│\u001B[0m\n",
       "\u001B[37m│\u001B[0m 🔧 Tool Call: retriever                                                                                         \u001B[37m│\u001B[0m\n",
       "\u001B[37m│\u001B[0m    Args: {                                                                                                      \u001B[37m│\u001B[0m\n",
       "\u001B[37m│\u001B[0m   \"query\": \"What is the document type for this digest: vI7EHYpQg6bnz2PsLviZVeneXbMs9iqDQyOgUjIhClc=\",           \u001B[37m│\u001B[0m\n",
       "\u001B[37m│\u001B[0m   \"digest\": \"vI7EHYpQg6bnz2PsLviZVeneXbMs9iqDQyOgUjIhClc=\",                                                     \u001B[37m│\u001B[0m\n",
       "\u001B[37m│\u001B[0m   \"state\": {                                                                                                    \u001B[37m│\u001B[0m\n",
       "\u001B[37m│\u001B[0m     \"doctype\": \"unknown\",                                                                                       \u001B[37m│\u001B[0m\n",
       "\u001B[37m│\u001B[0m     \"messages\": [],                                                                                             \u001B[37m│\u001B[0m\n",
       "\u001B[37m│\u001B[0m     \"remaining_steps\": 0                                                                                        \u001B[37m│\u001B[0m\n",
       "\u001B[37m│\u001B[0m   }                                                                                                             \u001B[37m│\u001B[0m\n",
       "\u001B[37m│\u001B[0m }                                                                                                               \u001B[37m│\u001B[0m\n",
       "\u001B[37m│\u001B[0m    ID: call_CKpuh5CBSMAOjORos35O3FAG                                                                            \u001B[37m│\u001B[0m\n",
       "\u001B[37m╰─────────────────────────────────────────────────────────────────────────────────────────────────────────────────╯\u001B[0m\n"
      ],
      "text/html": [
       "<pre style=\"white-space:pre;overflow-x:auto;line-height:normal;font-family:Menlo,'DejaVu Sans Mono',consolas,'Courier New',monospace\"><span style=\"color: #c0c0c0; text-decoration-color: #c0c0c0\">╭───────────────────────────────────────────────────── 📝 AI ─────────────────────────────────────────────────────╮</span>\n",
       "<span style=\"color: #c0c0c0; text-decoration-color: #c0c0c0\">│</span>                                                                                                                 <span style=\"color: #c0c0c0; text-decoration-color: #c0c0c0\">│</span>\n",
       "<span style=\"color: #c0c0c0; text-decoration-color: #c0c0c0\">│</span>                                                                                                                 <span style=\"color: #c0c0c0; text-decoration-color: #c0c0c0\">│</span>\n",
       "<span style=\"color: #c0c0c0; text-decoration-color: #c0c0c0\">│</span> 🔧 Tool Call: retriever                                                                                         <span style=\"color: #c0c0c0; text-decoration-color: #c0c0c0\">│</span>\n",
       "<span style=\"color: #c0c0c0; text-decoration-color: #c0c0c0\">│</span>    Args: {                                                                                                      <span style=\"color: #c0c0c0; text-decoration-color: #c0c0c0\">│</span>\n",
       "<span style=\"color: #c0c0c0; text-decoration-color: #c0c0c0\">│</span>   \"query\": \"What is the document type for this digest: vI7EHYpQg6bnz2PsLviZVeneXbMs9iqDQyOgUjIhClc=\",           <span style=\"color: #c0c0c0; text-decoration-color: #c0c0c0\">│</span>\n",
       "<span style=\"color: #c0c0c0; text-decoration-color: #c0c0c0\">│</span>   \"digest\": \"vI7EHYpQg6bnz2PsLviZVeneXbMs9iqDQyOgUjIhClc=\",                                                     <span style=\"color: #c0c0c0; text-decoration-color: #c0c0c0\">│</span>\n",
       "<span style=\"color: #c0c0c0; text-decoration-color: #c0c0c0\">│</span>   \"state\": {                                                                                                    <span style=\"color: #c0c0c0; text-decoration-color: #c0c0c0\">│</span>\n",
       "<span style=\"color: #c0c0c0; text-decoration-color: #c0c0c0\">│</span>     \"doctype\": \"unknown\",                                                                                       <span style=\"color: #c0c0c0; text-decoration-color: #c0c0c0\">│</span>\n",
       "<span style=\"color: #c0c0c0; text-decoration-color: #c0c0c0\">│</span>     \"messages\": [],                                                                                             <span style=\"color: #c0c0c0; text-decoration-color: #c0c0c0\">│</span>\n",
       "<span style=\"color: #c0c0c0; text-decoration-color: #c0c0c0\">│</span>     \"remaining_steps\": 0                                                                                        <span style=\"color: #c0c0c0; text-decoration-color: #c0c0c0\">│</span>\n",
       "<span style=\"color: #c0c0c0; text-decoration-color: #c0c0c0\">│</span>   }                                                                                                             <span style=\"color: #c0c0c0; text-decoration-color: #c0c0c0\">│</span>\n",
       "<span style=\"color: #c0c0c0; text-decoration-color: #c0c0c0\">│</span> }                                                                                                               <span style=\"color: #c0c0c0; text-decoration-color: #c0c0c0\">│</span>\n",
       "<span style=\"color: #c0c0c0; text-decoration-color: #c0c0c0\">│</span>    ID: call_CKpuh5CBSMAOjORos35O3FAG                                                                            <span style=\"color: #c0c0c0; text-decoration-color: #c0c0c0\">│</span>\n",
       "<span style=\"color: #c0c0c0; text-decoration-color: #c0c0c0\">╰─────────────────────────────────────────────────────────────────────────────────────────────────────────────────╯</span>\n",
       "</pre>\n"
      ]
     },
     "metadata": {},
     "output_type": "display_data"
    },
    {
     "data": {
      "text/plain": [
       "\u001B[33m╭─\u001B[0m\u001B[33m───────────────────────────────────────────────\u001B[0m\u001B[33m 🔧 Tool Output \u001B[0m\u001B[33m────────────────────────────────────────────────\u001B[0m\u001B[33m─╮\u001B[0m\n",
       "\u001B[33m│\u001B[0m Error: 1 validation error for retriever                                                                         \u001B[33m│\u001B[0m\n",
       "\u001B[33m│\u001B[0m state.doctype                                                                                                   \u001B[33m│\u001B[0m\n",
       "\u001B[33m│\u001B[0m   Field required [type=missing, input_value={'messages': [HumanMessag..., 'remaining_steps': 13},               \u001B[33m│\u001B[0m\n",
       "\u001B[33m│\u001B[0m input_type=dict]                                                                                                \u001B[33m│\u001B[0m\n",
       "\u001B[33m│\u001B[0m     For further information visit https://errors.pydantic.dev/2.11/v/missing                                    \u001B[33m│\u001B[0m\n",
       "\u001B[33m│\u001B[0m  Please fix your mistakes.                                                                                      \u001B[33m│\u001B[0m\n",
       "\u001B[33m╰─────────────────────────────────────────────────────────────────────────────────────────────────────────────────╯\u001B[0m\n"
      ],
      "text/html": [
       "<pre style=\"white-space:pre;overflow-x:auto;line-height:normal;font-family:Menlo,'DejaVu Sans Mono',consolas,'Courier New',monospace\"><span style=\"color: #808000; text-decoration-color: #808000\">╭──────────────────────────────────────────────── 🔧 Tool Output ─────────────────────────────────────────────────╮</span>\n",
       "<span style=\"color: #808000; text-decoration-color: #808000\">│</span> Error: 1 validation error for retriever                                                                         <span style=\"color: #808000; text-decoration-color: #808000\">│</span>\n",
       "<span style=\"color: #808000; text-decoration-color: #808000\">│</span> state.doctype                                                                                                   <span style=\"color: #808000; text-decoration-color: #808000\">│</span>\n",
       "<span style=\"color: #808000; text-decoration-color: #808000\">│</span>   Field required [type=missing, input_value={'messages': [HumanMessag..., 'remaining_steps': 13},               <span style=\"color: #808000; text-decoration-color: #808000\">│</span>\n",
       "<span style=\"color: #808000; text-decoration-color: #808000\">│</span> input_type=dict]                                                                                                <span style=\"color: #808000; text-decoration-color: #808000\">│</span>\n",
       "<span style=\"color: #808000; text-decoration-color: #808000\">│</span>     For further information visit https://errors.pydantic.dev/2.11/v/missing                                    <span style=\"color: #808000; text-decoration-color: #808000\">│</span>\n",
       "<span style=\"color: #808000; text-decoration-color: #808000\">│</span>  Please fix your mistakes.                                                                                      <span style=\"color: #808000; text-decoration-color: #808000\">│</span>\n",
       "<span style=\"color: #808000; text-decoration-color: #808000\">╰─────────────────────────────────────────────────────────────────────────────────────────────────────────────────╯</span>\n",
       "</pre>\n"
      ]
     },
     "metadata": {},
     "output_type": "display_data"
    },
    {
     "data": {
      "text/plain": [
       "\u001B[37m╭─\u001B[0m\u001B[37m────────────────────────────────────────────────────\u001B[0m\u001B[37m 📝 AI \u001B[0m\u001B[37m────────────────────────────────────────────────────\u001B[0m\u001B[37m─╮\u001B[0m\n",
       "\u001B[37m│\u001B[0m I tried to look up that digest in the document store but the retrieval call failed due to a                     \u001B[37m│\u001B[0m\n",
       "\u001B[37m│\u001B[0m technical/validation error (the retriever API expects a specific state field). I can't determine the document   \u001B[37m│\u001B[0m\n",
       "\u001B[37m│\u001B[0m type without either successfully fetching the document or seeing the document content.                          \u001B[37m│\u001B[0m\n",
       "\u001B[37m│\u001B[0m                                                                                                                 \u001B[37m│\u001B[0m\n",
       "\u001B[37m│\u001B[0m You can choose one:                                                                                             \u001B[37m│\u001B[0m\n",
       "\u001B[37m│\u001B[0m - I can try the retrieval again (I may need additional system parameters; if you want this, say “try again”).   \u001B[37m│\u001B[0m\n",
       "\u001B[37m│\u001B[0m - Or paste the document text (or the first few lines) here and I’ll identify the type.                          \u001B[37m│\u001B[0m\n",
       "\u001B[37m│\u001B[0m                                                                                                                 \u001B[37m│\u001B[0m\n",
       "\u001B[37m│\u001B[0m Which would you prefer?                                                                                         \u001B[37m│\u001B[0m\n",
       "\u001B[37m╰─────────────────────────────────────────────────────────────────────────────────────────────────────────────────╯\u001B[0m\n"
      ],
      "text/html": [
       "<pre style=\"white-space:pre;overflow-x:auto;line-height:normal;font-family:Menlo,'DejaVu Sans Mono',consolas,'Courier New',monospace\"><span style=\"color: #c0c0c0; text-decoration-color: #c0c0c0\">╭───────────────────────────────────────────────────── 📝 AI ─────────────────────────────────────────────────────╮</span>\n",
       "<span style=\"color: #c0c0c0; text-decoration-color: #c0c0c0\">│</span> I tried to look up that digest in the document store but the retrieval call failed due to a                     <span style=\"color: #c0c0c0; text-decoration-color: #c0c0c0\">│</span>\n",
       "<span style=\"color: #c0c0c0; text-decoration-color: #c0c0c0\">│</span> technical/validation error (the retriever API expects a specific state field). I can't determine the document   <span style=\"color: #c0c0c0; text-decoration-color: #c0c0c0\">│</span>\n",
       "<span style=\"color: #c0c0c0; text-decoration-color: #c0c0c0\">│</span> type without either successfully fetching the document or seeing the document content.                          <span style=\"color: #c0c0c0; text-decoration-color: #c0c0c0\">│</span>\n",
       "<span style=\"color: #c0c0c0; text-decoration-color: #c0c0c0\">│</span>                                                                                                                 <span style=\"color: #c0c0c0; text-decoration-color: #c0c0c0\">│</span>\n",
       "<span style=\"color: #c0c0c0; text-decoration-color: #c0c0c0\">│</span> You can choose one:                                                                                             <span style=\"color: #c0c0c0; text-decoration-color: #c0c0c0\">│</span>\n",
       "<span style=\"color: #c0c0c0; text-decoration-color: #c0c0c0\">│</span> - I can try the retrieval again (I may need additional system parameters; if you want this, say “try again”).   <span style=\"color: #c0c0c0; text-decoration-color: #c0c0c0\">│</span>\n",
       "<span style=\"color: #c0c0c0; text-decoration-color: #c0c0c0\">│</span> - Or paste the document text (or the first few lines) here and I’ll identify the type.                          <span style=\"color: #c0c0c0; text-decoration-color: #c0c0c0\">│</span>\n",
       "<span style=\"color: #c0c0c0; text-decoration-color: #c0c0c0\">│</span>                                                                                                                 <span style=\"color: #c0c0c0; text-decoration-color: #c0c0c0\">│</span>\n",
       "<span style=\"color: #c0c0c0; text-decoration-color: #c0c0c0\">│</span> Which would you prefer?                                                                                         <span style=\"color: #c0c0c0; text-decoration-color: #c0c0c0\">│</span>\n",
       "<span style=\"color: #c0c0c0; text-decoration-color: #c0c0c0\">╰─────────────────────────────────────────────────────────────────────────────────────────────────────────────────╯</span>\n",
       "</pre>\n"
      ]
     },
     "metadata": {},
     "output_type": "display_data"
    }
   ],
   "execution_count": 35
  },
  {
   "metadata": {},
   "cell_type": "code",
   "source": "",
   "id": "c0464a1b2c535d24",
   "outputs": [],
   "execution_count": null
  }
 ],
 "metadata": {
  "kernelspec": {
   "display_name": "Python 3",
   "language": "python",
   "name": "python3"
  },
  "language_info": {
   "codemirror_mode": {
    "name": "ipython",
    "version": 2
   },
   "file_extension": ".py",
   "mimetype": "text/x-python",
   "name": "python",
   "nbconvert_exporter": "python",
   "pygments_lexer": "ipython2",
   "version": "2.7.6"
  }
 },
 "nbformat": 4,
 "nbformat_minor": 5
}
